{
 "cells": [
  {
   "cell_type": "code",
   "execution_count": 22,
   "metadata": {},
   "outputs": [],
   "source": [
    "import os\n",
    "import warnings\n",
    "warnings.filterwarnings('ignore')\n",
    "import skimage\n",
    "from skimage.data import imread as skimg_imread\n",
    "from skimage import transform \n",
    "from skimage.color import rgb2gray\n",
    "import numpy\n",
    "\n",
    "def load_data(data_directory):\n",
    "    directories = [d for d in os.listdir(data_directory) \n",
    "                   if os.path.isdir(os.path.join(data_directory, d))]\n",
    "    labels = []\n",
    "    images = []\n",
    "    for d in directories:\n",
    "        label_directory = os.path.join(data_directory, d)\n",
    "        file_names = [os.path.join(label_directory, f) \n",
    "                      for f in os.listdir(label_directory) \n",
    "                      if f.endswith(\".ppm\")]\n",
    "        for f in file_names:\n",
    "            images.append(skimg_imread(f))\n",
    "            labels.append(int(d))\n",
    "    return images, labels\n",
    "\n",
    "data_folder = r'/Users/lantian/Desktop/Ivan/Marketing perso/Personal-Training/Tensorflow/data/Datacamp tutorial'\n",
    "\n",
    "train_data_directory = os.path.join(data_folder, \"Training\")\n",
    "test_data_directory = os.path.join(data_folder, \"Testing\")\n",
    "images, labels = load_data(train_data_directory)\n",
    "images28 = [transform.resize(image, (28, 28)) for image in images]\n",
    "images28 = numpy.array(images28)\n",
    "images28_gray = rgb2gray(images28)"
   ]
  },
  {
   "cell_type": "markdown",
   "metadata": {},
   "source": [
    "#### Fully connected layer with a hidden layer"
   ]
  },
  {
   "cell_type": "code",
   "execution_count": 23,
   "metadata": {
    "collapsed": true
   },
   "outputs": [],
   "source": [
    "import tensorflow as tf\n",
    "# Initialize placeholders \n",
    "x = tf.placeholder(dtype = tf.float32, shape = [None, 28, 28])\n",
    "y = tf.placeholder(dtype = tf.int32, shape = [None])"
   ]
  },
  {
   "cell_type": "code",
   "execution_count": 24,
   "metadata": {},
   "outputs": [],
   "source": [
    "images_flat = tf.contrib.layers.flatten(x)\n",
    "n_hidden_rule_thumb = int((2/3)*28*28 + 62)"
   ]
  },
  {
   "cell_type": "markdown",
   "metadata": {},
   "source": [
    "Rule of thumb for number of neuron in hidden layer <a href=\"https://www.ijcsmc.com/docs/papers/November2014/V3I11201499a19.pdf\">here</a><hr>\n",
    "\n",
    "<i>\n",
    "<li>The number of hidden neurons should be in the range between the size of the input layer and the size of the output layer</li>\n",
    "\n",
    "<li>The number of hidden neurons should be 2/3 of the input layer size, plus the size of theoutput layer</li>\n",
    "\n",
    "<li>The number of hidden neurons should be less than twice the input layer size</li>\n",
    "</i>"
   ]
  },
  {
   "cell_type": "code",
   "execution_count": 25,
   "metadata": {},
   "outputs": [
    {
     "data": {
      "text/plain": [
       "584"
      ]
     },
     "execution_count": 25,
     "metadata": {},
     "output_type": "execute_result"
    }
   ],
   "source": [
    "n_hidden_rule_thumb"
   ]
  },
  {
   "cell_type": "code",
   "execution_count": 26,
   "metadata": {
    "collapsed": true
   },
   "outputs": [],
   "source": [
    "hidden = tf.contrib.layers.fully_connected(images_flat, n_hidden_rule_thumb, tf.nn.relu)\n",
    "logits = tf.contrib.layers.fully_connected(hidden, 62, tf.nn.relu)"
   ]
  },
  {
   "cell_type": "code",
   "execution_count": 27,
   "metadata": {
    "collapsed": true
   },
   "outputs": [],
   "source": [
    "cross_entropy = tf.nn.sparse_softmax_cross_entropy_with_logits(labels = y, logits = logits)\n",
    "loss = tf.reduce_mean(cross_entropy)\n",
    "train_op = tf.train.AdamOptimizer(learning_rate=0.001).minimize(loss)\n",
    "\n",
    "prediction = tf.argmax(logits, 1)\n",
    "accuracy = tf.reduce_mean(tf.cast(prediction, tf.float32))"
   ]
  },
  {
   "cell_type": "markdown",
   "metadata": {},
   "source": [
    "#### TRAIN"
   ]
  },
  {
   "cell_type": "code",
   "execution_count": 28,
   "metadata": {
    "collapsed": true
   },
   "outputs": [],
   "source": [
    "import pandas"
   ]
  },
  {
   "cell_type": "code",
   "execution_count": 29,
   "metadata": {},
   "outputs": [
    {
     "name": "stdout",
     "output_type": "stream",
     "text": [
      "Loss:  4.17961\n",
      "Loss:  3.2956\n",
      "Loss:  2.88491\n",
      "Loss:  2.62471\n",
      "Loss:  2.45488\n",
      "Loss:  2.34085\n",
      "Loss:  2.25745\n",
      "Loss:  2.19303\n",
      "Loss:  2.14196\n",
      "Loss:  2.10004\n",
      "Loss:  2.06467\n",
      "Loss:  2.03437\n",
      "Loss:  2.0082\n",
      "Loss:  1.98547\n",
      "Loss:  1.96568\n",
      "Loss:  1.94886\n",
      "Loss:  1.93356\n",
      "Loss:  1.92064\n",
      "Loss:  1.90906\n",
      "Loss:  1.89862\n",
      "Loss:  1.88992\n"
     ]
    }
   ],
   "source": [
    "s_loss = pandas.Series(index=range(201))\n",
    "\n",
    "tf.set_random_seed(1234)\n",
    "sess = tf.Session()\n",
    "\n",
    "sess.run(tf.global_variables_initializer())\n",
    "\n",
    "for i in range(201):\n",
    "    _, loss_value, accuracy_val = sess.run([train_op, loss, accuracy], feed_dict={x: images28_gray, y: labels})\n",
    "    s_loss.loc[i] = loss_value\n",
    "    if i % 10 == 0:\n",
    "        # print('EPOCH', i)\n",
    "        # print(\"Accuracy: \", accuracy_val)\n",
    "        print(\"Loss: \", loss_value)\n",
    "        pass\n",
    "\n",
    "# sess.close()"
   ]
  },
  {
   "cell_type": "markdown",
   "metadata": {},
   "source": [
    "#### TEST"
   ]
  },
  {
   "cell_type": "code",
   "execution_count": 30,
   "metadata": {},
   "outputs": [
    {
     "name": "stdout",
     "output_type": "stream",
     "text": [
      "Accuracy: 0.563\n"
     ]
    }
   ],
   "source": [
    "# Import `skimage`\n",
    "from skimage import transform\n",
    "\n",
    "# Load the test data\n",
    "test_images, test_labels = load_data(test_data_directory)\n",
    "\n",
    "# Transform the images to 28 by 28 pixels\n",
    "test_images28 = [transform.resize(image, (28, 28)) for image in test_images]\n",
    "\n",
    "# Convert to grayscale\n",
    "from skimage.color import rgb2gray\n",
    "test_images28_gray = rgb2gray(numpy.array(test_images28))\n",
    "\n",
    "# Run predictions against the full test set.\n",
    "predicted = sess.run(prediction, feed_dict={x: test_images28_gray})\n",
    "\n",
    "# Calculate correct matches \n",
    "match_count = sum([int(y == y_) for y, y_ in zip(test_labels, predicted)])\n",
    "\n",
    "# Calculate the accuracy\n",
    "accuracy = match_count / len(test_labels)\n",
    "\n",
    "# Print the accuracy\n",
    "print(\"Accuracy: {:.3f}\".format(accuracy))"
   ]
  },
  {
   "cell_type": "markdown",
   "metadata": {},
   "source": [
    "Only a disappointing improvement from 54.4% previously..."
   ]
  },
  {
   "cell_type": "markdown",
   "metadata": {},
   "source": [
    "https://towardsdatascience.com/a-guide-to-an-efficient-way-to-build-neural-network-architectures-part-ii-hyper-parameter-42efca01e5d7"
   ]
  },
  {
   "cell_type": "code",
   "execution_count": null,
   "metadata": {
    "collapsed": true
   },
   "outputs": [],
   "source": []
  }
 ],
 "metadata": {
  "kernelspec": {
   "display_name": "Python 3",
   "language": "python",
   "name": "python3"
  },
  "language_info": {
   "codemirror_mode": {
    "name": "ipython",
    "version": 3
   },
   "file_extension": ".py",
   "mimetype": "text/x-python",
   "name": "python",
   "nbconvert_exporter": "python",
   "pygments_lexer": "ipython3",
   "version": "3.6.3"
  }
 },
 "nbformat": 4,
 "nbformat_minor": 2
}
